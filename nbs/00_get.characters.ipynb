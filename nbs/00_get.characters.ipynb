{
 "cells": [
  {
   "cell_type": "markdown",
   "metadata": {},
   "source": [
    "# Get character data\n",
    "\n",
    "> Use the PoE API to get character data."
   ]
  },
  {
   "cell_type": "code",
   "execution_count": 2,
   "metadata": {},
   "outputs": [],
   "source": [
    "#| default_exp get.characters"
   ]
  },
  {
   "cell_type": "code",
   "execution_count": 3,
   "metadata": {},
   "outputs": [],
   "source": [
    "#| hide\n",
    "from nbdev.showdoc import *"
   ]
  },
  {
   "cell_type": "code",
   "execution_count": 9,
   "metadata": {},
   "outputs": [],
   "source": [
    "#| export\n",
    "import numpy as np\n",
    "import pandas as pd\n",
    "import requests\n",
    "from traceback import format_exc\n",
    "from tinydb import TinyDB, Query\n",
    "from tqdm import tqdm"
   ]
  },
  {
   "cell_type": "code",
   "execution_count": 5,
   "metadata": {},
   "outputs": [],
   "source": [
    "#| hide\n",
    "from pathlib import Path"
   ]
  },
  {
   "cell_type": "code",
   "execution_count": 36,
   "metadata": {},
   "outputs": [],
   "source": [
    "#| export\n",
    "POE_URI = \"https://www.pathofexile.com\"\n",
    "\n",
    "\n",
    "class Requester:\n",
    "    def __init__(self) -> None:\n",
    "        self.client = requests.session()\n",
    "        self.client.headers.update({\"User-Agent\": \"POE-Character-Embedder\"})\n",
    "\n",
    "    def get(self, url: str, params: dict = {}, ignore_exception: bool = False) -> dict:\n",
    "        try:\n",
    "            response = self.client.get(url=url, params=params)\n",
    "\n",
    "            if response.status_code != 200:\n",
    "                if not ignore_exception:\n",
    "                    raise Exception(\n",
    "                        f\"Error: failed to make successful call to {url} with status code {response.status_code}\"\n",
    "                    )\n",
    "                else:\n",
    "                    return {}\n",
    "\n",
    "        except (\n",
    "            requests.ConnectTimeout,\n",
    "            requests.HTTPError,\n",
    "            requests.ReadTimeout,\n",
    "            requests.Timeout,\n",
    "            ConnectionError,\n",
    "        ):\n",
    "            self.logger.error(f\"Error on get...\\n{format_exc()}\")\n",
    "\n",
    "        return response.json()\n",
    "\n",
    "    def get_character_tree(self, account: str, character: str, **get_kwargs) -> dict:\n",
    "        # /character-window/get-passive-skills?reqData=0&accountName={account_name}&realm=pc&character={character_name}\n",
    "        url = POE_URI + f\"/character-window/get-passive-skills?reqData=0&accountName={account}&realm=pc&character={character}\"\n",
    "        return self.get(url, **get_kwargs)\n",
    "    \n",
    "    def get_character_items(self, account: str, character: str, **get_kwargs) -> dict:\n",
    "        url=f\"{POE_URI}/character-window/get-items\"\n",
    "        params={\"accountName\": account, \"character\": character}\n",
    "        return self.get(url, params=params, **get_kwargs)"
   ]
  },
  {
   "cell_type": "code",
   "execution_count": 37,
   "metadata": {},
   "outputs": [
    {
     "data": {
      "text/plain": [
       "(dict_keys(['hashes', 'hashes_ex', 'mastery_effects', 'items', 'jewel_data']),\n",
       " dict_keys(['items', 'character']))"
      ]
     },
     "execution_count": 37,
     "metadata": {},
     "output_type": "execute_result"
    }
   ],
   "source": [
    "example_account = \"TheuberClips\"\n",
    "example_character = \"UberRankOneOrRiot\"\n",
    "\n",
    "requester = Requester()\n",
    "\n",
    "example_character_skill_tree = requester.get_character_tree(example_account, example_character)\n",
    "example_character_items = requester.get_character_items(example_account, example_character)\n",
    "example_character_skill_tree.keys(), example_character_items.keys()"
   ]
  },
  {
   "cell_type": "code",
   "execution_count": 38,
   "metadata": {},
   "outputs": [
    {
     "data": {
      "text/html": [
       "<div>\n",
       "<style scoped>\n",
       "    .dataframe tbody tr th:only-of-type {\n",
       "        vertical-align: middle;\n",
       "    }\n",
       "\n",
       "    .dataframe tbody tr th {\n",
       "        vertical-align: top;\n",
       "    }\n",
       "\n",
       "    .dataframe thead th {\n",
       "        text-align: right;\n",
       "    }\n",
       "</style>\n",
       "<table border=\"1\" class=\"dataframe\">\n",
       "  <thead>\n",
       "    <tr style=\"text-align: right;\">\n",
       "      <th></th>\n",
       "      <th>Rank</th>\n",
       "      <th>Account</th>\n",
       "      <th>Character</th>\n",
       "      <th>Class</th>\n",
       "      <th>Level</th>\n",
       "      <th>Experience</th>\n",
       "      <th>Dead</th>\n",
       "    </tr>\n",
       "  </thead>\n",
       "  <tbody>\n",
       "    <tr>\n",
       "      <th>0</th>\n",
       "      <td>1</td>\n",
       "      <td>CARNDARAK</td>\n",
       "      <td>cArnTENPERCENT</td>\n",
       "      <td>Slayer</td>\n",
       "      <td>100</td>\n",
       "      <td>4250334444</td>\n",
       "      <td>NaN</td>\n",
       "    </tr>\n",
       "    <tr>\n",
       "      <th>1</th>\n",
       "      <td>2</td>\n",
       "      <td>HooWoo</td>\n",
       "      <td>Hoowoo</td>\n",
       "      <td>Champion</td>\n",
       "      <td>100</td>\n",
       "      <td>4250334444</td>\n",
       "      <td>Dead</td>\n",
       "    </tr>\n",
       "    <tr>\n",
       "      <th>2</th>\n",
       "      <td>3</td>\n",
       "      <td>cyakimanbo</td>\n",
       "      <td>cyakimanw</td>\n",
       "      <td>Slayer</td>\n",
       "      <td>100</td>\n",
       "      <td>4250334444</td>\n",
       "      <td>Dead</td>\n",
       "    </tr>\n",
       "    <tr>\n",
       "      <th>3</th>\n",
       "      <td>4</td>\n",
       "      <td>neradus94</td>\n",
       "      <td>NeraJuggIsWorse</td>\n",
       "      <td>Juggernaut</td>\n",
       "      <td>100</td>\n",
       "      <td>4250334444</td>\n",
       "      <td>Dead</td>\n",
       "    </tr>\n",
       "    <tr>\n",
       "      <th>4</th>\n",
       "      <td>5</td>\n",
       "      <td>ryzenier</td>\n",
       "      <td>RyzenierOneStepBehind</td>\n",
       "      <td>Trickster</td>\n",
       "      <td>100</td>\n",
       "      <td>4250334444</td>\n",
       "      <td>NaN</td>\n",
       "    </tr>\n",
       "  </tbody>\n",
       "</table>\n",
       "</div>"
      ],
      "text/plain": [
       "   Rank     Account              Character       Class  Level  Experience  \\\n",
       "0     1   CARNDARAK         cArnTENPERCENT      Slayer    100  4250334444   \n",
       "1     2      HooWoo                 Hoowoo    Champion    100  4250334444   \n",
       "2     3  cyakimanbo              cyakimanw      Slayer    100  4250334444   \n",
       "3     4   neradus94        NeraJuggIsWorse  Juggernaut    100  4250334444   \n",
       "4     5    ryzenier  RyzenierOneStepBehind   Trickster    100  4250334444   \n",
       "\n",
       "   Dead  \n",
       "0   NaN  \n",
       "1  Dead  \n",
       "2  Dead  \n",
       "3  Dead  \n",
       "4   NaN  "
      ]
     },
     "execution_count": 38,
     "metadata": {},
     "output_type": "execute_result"
    }
   ],
   "source": [
    "#| hide\n",
    "characters_path = Path(\"../data/raw/Path_of_Exile_HC_SSF_Crucible_league_export.23_Jul_29.06_07_42.0.csv\")\n",
    "characters = pd.read_csv(characters_path)\n",
    "characters.head()"
   ]
  },
  {
   "cell_type": "code",
   "execution_count": 39,
   "metadata": {},
   "outputs": [
    {
     "data": {
      "text/plain": [
       "20"
      ]
     },
     "execution_count": 39,
     "metadata": {},
     "output_type": "execute_result"
    }
   ],
   "source": [
    "#| hide\n",
    "characters.shape[0] // 50"
   ]
  },
  {
   "cell_type": "code",
   "execution_count": 40,
   "metadata": {},
   "outputs": [],
   "source": [
    "#| hide\n",
    "characters_chunk = characters.head(10)\n",
    "character_chunk_trees = characters_chunk.apply(\n",
    "    lambda row: requester.get_character_tree(row.Account, row.Character, ignore_exception=True),\n",
    "    axis=1)\n",
    "character_chunk_character_items = characters_chunk.apply(\n",
    "    lambda row: requester.get_character_items(row.Account, row.Character, ignore_exception=True),\n",
    "    axis=1)\n"
   ]
  },
  {
   "cell_type": "code",
   "execution_count": 41,
   "metadata": {},
   "outputs": [
    {
     "data": {
      "text/plain": [
       "[('CARNDARAK', 'cArnTENPERCENT'),\n",
       " ('HooWoo', 'Hoowoo'),\n",
       " ('cyakimanbo', 'cyakimanw'),\n",
       " ('neradus94', 'NeraJuggIsWorse'),\n",
       " ('ryzenier', 'RyzenierOneStepBehind')]"
      ]
     },
     "execution_count": 41,
     "metadata": {},
     "output_type": "execute_result"
    }
   ],
   "source": [
    "#| hide\n",
    "characters_chunk_keys = [tuple(l) for l in characters[['Account', 'Character']].values.tolist()]\n",
    "characters_chunk_keys[:5]"
   ]
  },
  {
   "cell_type": "code",
   "execution_count": 42,
   "metadata": {},
   "outputs": [],
   "source": [
    "#| hide\n",
    "character_chunk_dicts = [{\"tree\": tree, \"items\": item_dict} for tree, item_dict in zip(character_chunk_trees, character_chunk_character_items)]"
   ]
  },
  {
   "cell_type": "code",
   "execution_count": 43,
   "metadata": {},
   "outputs": [],
   "source": [
    "#| hide\n",
    "character_db_path = Path('../data/raw/character_db.json')\n",
    "assert character_db_path.parent.exists()\n",
    "character_db = TinyDB(character_db_path)"
   ]
  },
  {
   "cell_type": "code",
   "execution_count": 45,
   "metadata": {},
   "outputs": [
    {
     "name": "stderr",
     "output_type": "stream",
     "text": [
      "                                                                                \r"
     ]
    }
   ],
   "source": [
    "#| hide\n",
    "character_chunks = tqdm(np.array_split(characters, characters.shape[0] // 50), ncols=80, leave=False, desc=\"Getting character data\")\n",
    "for chunk in character_chunks:\n",
    "    chunk_index = [tuple(l) for l in chunk[['Account', 'Character']].values.tolist()]\n",
    "    chunk_trees = chunk.apply(\n",
    "        lambda row: requester.get_character_tree(row.Account, row.Character, ignore_exception=True),\n",
    "        axis=1)\n",
    "    chunk_items = chunk.apply(\n",
    "        lambda row: requester.get_character_items(row.Account, row.Character, ignore_exception=True),\n",
    "        axis=1)\n",
    "    chunk_dicts = [\n",
    "        {\n",
    "            \"account\": account, \n",
    "            \"character\": character,\n",
    "            \"tree\": tree, \n",
    "            \"items\": item_dict\n",
    "        } for (account, character), tree, item_dict in zip(\n",
    "            chunk_index,\n",
    "            character_chunk_trees, \n",
    "            character_chunk_character_items\n",
    "        )]\n",
    "    character_db.insert_multiple(chunk_dicts)    "
   ]
  },
  {
   "cell_type": "code",
   "execution_count": 47,
   "metadata": {},
   "outputs": [],
   "source": [
    "#| hide\n",
    "import nbdev; nbdev.nbdev_export()"
   ]
  },
  {
   "cell_type": "code",
   "execution_count": null,
   "metadata": {},
   "outputs": [],
   "source": []
  }
 ],
 "metadata": {
  "kernelspec": {
   "display_name": "python3",
   "language": "python",
   "name": "python3"
  },
  "language_info": {
   "codemirror_mode": {
    "name": "ipython",
    "version": 3
   },
   "file_extension": ".py",
   "mimetype": "text/x-python",
   "name": "python",
   "nbconvert_exporter": "python",
   "pygments_lexer": "ipython3",
   "version": "3.10.6"
  }
 },
 "nbformat": 4,
 "nbformat_minor": 4
}
